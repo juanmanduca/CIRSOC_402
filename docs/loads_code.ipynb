{
 "cells": [
  {
   "cell_type": "markdown",
   "metadata": {},
   "source": [
    "# Loads and loads combinations"
   ]
  },
  {
   "cell_type": "markdown",
   "metadata": {},
   "source": [
    "`cirsoc_402` incorporates tools that allow the user to define loads and combine them according to the ultimate or service states to find the design loads of the foundation. This is done with the `Load`, `LoadGroup` and `LoadCombination` objects."
   ]
  },
  {
   "cell_type": "markdown",
   "metadata": {},
   "source": [
    "## Loads"
   ]
  },
  {
   "cell_type": "markdown",
   "metadata": {},
   "source": [
    "A load is defined by the components of the force and moment vectors expressed in a reference coordinate system. `cirsoc_402` uses the `Load` object to create and manipulate loads. When a load is created with `Load` the load type must be specified. Load types refers to the **xxxx** of the load. The accepted load types are specified in the constant `cirsoc_402.constants.LOAD`."
   ]
  },
  {
   "cell_type": "code",
   "execution_count": 1,
   "metadata": {},
   "outputs": [
    {
     "data": {
      "text/plain": [
       "['D', 'Di', 'E', 'F', 'Fa', 'H', 'L', 'Lr', 'R', 'S', 'T', 'W', 'Wi']"
      ]
     },
     "execution_count": 1,
     "metadata": {},
     "output_type": "execute_result"
    }
   ],
   "source": [
    "from cirsoc_402.constants import LOAD\n",
    "LOAD"
   ]
  },
  {
   "cell_type": "markdown",
   "metadata": {},
   "source": [
    "The assigned load type is used for combining the load into the service and ultimate load combinations. The load type is the only necessary input to create a load, all the other inputs being optional."
   ]
  },
  {
   "cell_type": "code",
   "execution_count": 2,
   "metadata": {},
   "outputs": [
    {
     "data": {
      "text/plain": [
       " (D)\n",
       "F = (0.00, 0.00, 0.00) \n",
       "M = (0.00, 0.00, 0.00) \n",
       "O = (0.00, 0.00, 0.00) \n",
       "θ = (0.00, 0.00, 0.00)"
      ]
     },
     "execution_count": 2,
     "metadata": {},
     "output_type": "execute_result"
    }
   ],
   "source": [
    "from cirsoc_402 import Load\n",
    "load = Load('D')\n",
    "load"
   ]
  },
  {
   "cell_type": "markdown",
   "metadata": {},
   "source": [
    "Loads are defined in a cartesian coordinate system with axis $x$, $y$ and $z$. The force $\\underline{F}$ and moment $\\underline{M}$ vectors are decomposed in the components assocciate to each axis: $\\underline{F}=F_x\\,\\underline{e}_x + F_y\\,\\underline{e}_y+F_z\\,\\underline{e}_z$ and $\\underline{M}=M_x\\,\\underline{e}_x + M_y\\,\\underline{e}_y+M_z\\,\\underline{e}_z$, where $\\underline{e}_k$ is the unit vector in the k-axis. The `xforce`, `yforce` and `zforce` parameters of the `Load` object represent the $F_x$, $F_y$ and $F_z$ components, while `xmoment`, `ymoment` and `zmoment` are $M_x$, $M_y$ and $M_z$."
   ]
  },
  {
   "cell_type": "markdown",
   "metadata": {},
   "source": [
    "<div><img src=\"reference_system.png\" width=\"500px\"></div>\n",
    "\n",
    "**Figure 1: Load components.**\n",
    "<a id=\"fig-load_components\"></a>"
   ]
  },
  {
   "cell_type": "markdown",
   "metadata": {},
   "source": [
    "Only the non-zero components of the loads need to be specified when creating it. Besides the load type, a name can be assigned to the load to identify it."
   ]
  },
  {
   "cell_type": "code",
   "execution_count": 3,
   "metadata": {},
   "outputs": [
    {
     "data": {
      "text/plain": [
       "column 1 (D)\n",
       "F = (10.00, -5.00, 0.00) \n",
       "M = (0.00, 0.00, 4.00) \n",
       "O = (0.00, 0.00, 0.00) \n",
       "θ = (0.00, 0.00, 0.00)"
      ]
     },
     "execution_count": 3,
     "metadata": {},
     "output_type": "execute_result"
    }
   ],
   "source": [
    "from cirsoc_402 import Load\n",
    "dlc1 = Load('D', xforce=10, yforce=-5, zmoment=4, name='column 1')\n",
    "dlc1"
   ]
  },
  {
   "cell_type": "markdown",
   "metadata": {},
   "source": [
    "### Change of reference frame"
   ]
  },
  {
   "cell_type": "code",
   "execution_count": 2,
   "metadata": {},
   "outputs": [
    {
     "data": {
      "text/plain": [
       "column 1 (D)\n",
       "F = (10.00, -5.00, 0.00) \n",
       "M = (10.00, 5.00, 46.00) \n",
       "O = (10.00, 0.00, 0.00) \n",
       "θ = (0.00, 0.00, 0.00)"
      ]
     },
     "execution_count": 2,
     "metadata": {},
     "output_type": "execute_result"
    }
   ],
   "source": [
    "from cirsoc_402 import Load\n",
    "dlc1 = Load('D', xforce=10, yforce=-5, xmoment=10, ymoment=5, zmoment=-4, name='column 1')\n",
    "dlc1.xshift(10)\n",
    "dlc1"
   ]
  },
  {
   "cell_type": "code",
   "execution_count": 3,
   "metadata": {},
   "outputs": [
    {
     "data": {
      "text/plain": [
       "column 1 (D)\n",
       "F = (10.00, -5.00, 0.00) \n",
       "M = (10.00, 5.00, -4.00) \n",
       "O = (0.00, 0.00, 0.00) \n",
       "θ = (0.00, 0.00, 0.00)"
      ]
     },
     "execution_count": 3,
     "metadata": {},
     "output_type": "execute_result"
    }
   ],
   "source": [
    "dlc1.xshift(-10)\n",
    "dlc1"
   ]
  },
  {
   "cell_type": "code",
   "execution_count": 4,
   "metadata": {},
   "outputs": [
    {
     "data": {
      "text/plain": [
       "column 1 (D)\n",
       "F = (10.00, -5.00, 0.00) \n",
       "M = (20.00, 10.00, 31.00) \n",
       "O = (3.00, 2.00, 1.00) \n",
       "θ = (0.00, 0.00, 0.00)"
      ]
     },
     "execution_count": 4,
     "metadata": {},
     "output_type": "execute_result"
    }
   ],
   "source": [
    "dlc1.shift(3, 2, 1)\n",
    "dlc1"
   ]
  },
  {
   "cell_type": "markdown",
   "metadata": {},
   "source": [
    "### Operations"
   ]
  },
  {
   "cell_type": "code",
   "execution_count": null,
   "metadata": {},
   "outputs": [],
   "source": []
  },
  {
   "cell_type": "markdown",
   "metadata": {},
   "source": [
    "## Load groups"
   ]
  },
  {
   "cell_type": "markdown",
   "metadata": {},
   "source": [
    " `LoadGroup` objects combine different loads adding them by their load type. They are particularly useful to define the set of loads acting at once on a foundation. As with the loads, the load group is associated to a reference cartesian system defined by its position $\\underline{O}$ and the rotation of each axis ${\\theta}$. Individual loads are incorporated into the `LoadGroup` by adding them. The addition takes into consideration the reference system of each load and transforms the force and moment components to the reference system of the `LoadGroup`.\n",
    " \n",
    " The following example considers the case of a single foundation on which four columns rest. Each column has their own dead , live and wind loads, defined in the coordinate system of the column."
   ]
  },
  {
   "cell_type": "markdown",
   "metadata": {},
   "source": [
    "<div><img src=\"load_group_1.png\" width=\"400px\"></div>\n",
    "\n",
    "**Figure 2: Foundation with four columns, each with it's own reference system.**\n",
    "<a id=\"fig-load_grou_1\"></a>"
   ]
  },
  {
   "cell_type": "markdown",
   "metadata": {},
   "source": [
    "The resultant forces acting on the foundation can be easily determined with a `LoadGroup`."
   ]
  },
  {
   "cell_type": "code",
   "execution_count": 11,
   "metadata": {},
   "outputs": [
    {
     "data": {
      "text/plain": [
       "Load\tFx\t\tFy\t\tFz\t\t\tMx\t\tMy\t\tMz\n",
       "D\t0.00\t\t0.00\t\t-70.00\t\t\t30.00\t\t0.00\t\t0.00\n",
       "Di\t0.00\t\t0.00\t\t0.00\t\t\t0.00\t\t0.00\t\t0.00\n",
       "E\t0.00\t\t0.00\t\t0.00\t\t\t0.00\t\t0.00\t\t0.00\n",
       "F\t0.00\t\t0.00\t\t0.00\t\t\t0.00\t\t0.00\t\t0.00\n",
       "Fa\t0.00\t\t0.00\t\t0.00\t\t\t0.00\t\t0.00\t\t0.00\n",
       "H\t0.00\t\t0.00\t\t0.00\t\t\t0.00\t\t0.00\t\t0.00\n",
       "L\t38.00\t\t37.00\t\t-40.00\t\t\t-36.00\t\t18.50\t\t18.50\n",
       "Lr\t0.00\t\t0.00\t\t0.00\t\t\t0.00\t\t0.00\t\t0.00\n",
       "R\t0.00\t\t0.00\t\t0.00\t\t\t0.00\t\t0.00\t\t0.00\n",
       "S\t0.00\t\t0.00\t\t0.00\t\t\t0.00\t\t0.00\t\t0.00\n",
       "T\t0.00\t\t0.00\t\t0.00\t\t\t0.00\t\t0.00\t\t0.00\n",
       "W\t0.00\t\t0.00\t\t0.00\t\t\t0.00\t\t0.00\t\t0.00\n",
       "Wi\t0.00\t\t0.00\t\t0.00\t\t\t0.00\t\t0.00\t\t0.00\n",
       "\n",
       "O = (0.00, 0.00, 0.00) \n",
       "θ = (0.00, 0.00, 0.00)"
      ]
     },
     "execution_count": 11,
     "metadata": {},
     "output_type": "execute_result"
    }
   ],
   "source": [
    "from cirsoc_402 import Load\n",
    "from cirsoc_402 import LoadGroup\n",
    "\n",
    "\n",
    "c1d = Load('D', zforce = -15, xcoord=-4, ycoord=3, name='column 1 dead')\n",
    "c1l = Load('L', zforce = -15, xforce=10, yforce=3, xmoment=4, ymoment=5, xcoord=-4, ycoord=3, name='column 1 live')\n",
    "\n",
    "c2d = Load('D', zforce = -15, xcoord=4, ycoord=3, name='column 2 dead')\n",
    "c2l = Load('L', zforce = -15, xforce=8, yforce=4, xmoment=6, ymoment=3.5, xcoord=4, ycoord=3, name='column 2 live')\n",
    "\n",
    "c3d = Load('D', zforce = -20, xcoord=4, ycoord=-3, name='column 3 dead')\n",
    "c3l = Load('L', zforce = -5, xforce=10, yforce=15, xmoment=7, ymoment=5, xcoord=4, ycoord=-3, name='column 3 live')\n",
    "\n",
    "c4d = Load('D', zforce = -20, xcoord=-4, ycoord=-3, name='column 4 dead')\n",
    "c4l = Load('L', zforce = -5, xforce=10, yforce=15, xmoment=7, ymoment=5, xcoord=-4, ycoord=-3, name='column 4 live')\n",
    "\n",
    "lgroup = LoadGroup()\n",
    "lgroup = lgroup + c1d + c1l + c2d + c2l + c3d + c3l + c4d + c4l\n",
    "lgroup"
   ]
  },
  {
   "cell_type": "markdown",
   "metadata": {},
   "source": [
    "### Operations"
   ]
  },
  {
   "cell_type": "markdown",
   "metadata": {},
   "source": [
    "### Change of reference system"
   ]
  },
  {
   "cell_type": "markdown",
   "metadata": {},
   "source": [
    "The position of the reference system of the `LoadGroup` can be modified with the `xshift`, `yshift`, `zshift` and `shift` functions:"
   ]
  },
  {
   "cell_type": "code",
   "execution_count": 12,
   "metadata": {},
   "outputs": [
    {
     "data": {
      "text/plain": [
       "Load\tFx\t\tFy\t\tFz\t\t\tMx\t\tMy\t\tMz\n",
       "D\t0.00\t\t0.00\t\t-70.00\t\t\t-180.00\t\t-1050.00\t\t-1050.00\n",
       "Di\t0.00\t\t0.00\t\t0.00\t\t\t0.00\t\t0.00\t\t0.00\n",
       "E\t0.00\t\t0.00\t\t0.00\t\t\t0.00\t\t0.00\t\t0.00\n",
       "F\t0.00\t\t0.00\t\t0.00\t\t\t0.00\t\t0.00\t\t0.00\n",
       "Fa\t0.00\t\t0.00\t\t0.00\t\t\t0.00\t\t0.00\t\t0.00\n",
       "H\t0.00\t\t0.00\t\t0.00\t\t\t0.00\t\t0.00\t\t0.00\n",
       "L\t38.00\t\t37.00\t\t-40.00\t\t\t-80.00\t\t-655.50\t\t-655.50\n",
       "Lr\t0.00\t\t0.00\t\t0.00\t\t\t0.00\t\t0.00\t\t0.00\n",
       "R\t0.00\t\t0.00\t\t0.00\t\t\t0.00\t\t0.00\t\t0.00\n",
       "S\t0.00\t\t0.00\t\t0.00\t\t\t0.00\t\t0.00\t\t0.00\n",
       "T\t0.00\t\t0.00\t\t0.00\t\t\t0.00\t\t0.00\t\t0.00\n",
       "W\t0.00\t\t0.00\t\t0.00\t\t\t0.00\t\t0.00\t\t0.00\n",
       "Wi\t0.00\t\t0.00\t\t0.00\t\t\t0.00\t\t0.00\t\t0.00\n",
       "\n",
       "O = (15.00, -3.00, 2.00) \n",
       "θ = (0.00, 0.00, 0.00)"
      ]
     },
     "execution_count": 12,
     "metadata": {},
     "output_type": "execute_result"
    }
   ],
   "source": [
    "lgroup.shift(15, -3, 2)\n",
    "lgroup"
   ]
  },
  {
   "cell_type": "markdown",
   "metadata": {},
   "source": [
    "The orientation of the axis can be modified with the `xrotate`, `yrotate`, `zrotate` and `rotate` functions. For a 45 degrees rotation around the z axis:"
   ]
  },
  {
   "cell_type": "code",
   "execution_count": 14,
   "metadata": {},
   "outputs": [
    {
     "data": {
      "text/plain": [
       "Load\tFx\t\tFy\t\tFz\t\t\tMx\t\tMy\t\tMz\n",
       "D\t0.00\t\t0.00\t\t-70.00\t\t\t615.18\t\t-869.74\t\t-869.74\n",
       "Di\t0.00\t\t0.00\t\t0.00\t\t\t0.00\t\t0.00\t\t0.00\n",
       "E\t0.00\t\t0.00\t\t0.00\t\t\t0.00\t\t0.00\t\t0.00\n",
       "F\t0.00\t\t0.00\t\t0.00\t\t\t0.00\t\t0.00\t\t0.00\n",
       "Fa\t0.00\t\t0.00\t\t0.00\t\t\t0.00\t\t0.00\t\t0.00\n",
       "H\t0.00\t\t0.00\t\t0.00\t\t\t0.00\t\t0.00\t\t0.00\n",
       "L\t0.71\t\t53.03\t\t-40.00\t\t\t406.94\t\t-520.08\t\t-520.08\n",
       "Lr\t0.00\t\t0.00\t\t0.00\t\t\t0.00\t\t0.00\t\t0.00\n",
       "R\t0.00\t\t0.00\t\t0.00\t\t\t0.00\t\t0.00\t\t0.00\n",
       "S\t0.00\t\t0.00\t\t0.00\t\t\t0.00\t\t0.00\t\t0.00\n",
       "T\t0.00\t\t0.00\t\t0.00\t\t\t0.00\t\t0.00\t\t0.00\n",
       "W\t0.00\t\t0.00\t\t0.00\t\t\t0.00\t\t0.00\t\t0.00\n",
       "Wi\t0.00\t\t0.00\t\t0.00\t\t\t0.00\t\t0.00\t\t0.00\n",
       "\n",
       "O = (15.00, -3.00, 2.00) \n",
       "θ = (0.00, 0.00, 45.00)"
      ]
     },
     "execution_count": 14,
     "metadata": {},
     "output_type": "execute_result"
    }
   ],
   "source": [
    "lgroup.zrotate(45)\n",
    "lgroup"
   ]
  },
  {
   "cell_type": "markdown",
   "metadata": {},
   "source": [
    "The reference system can be returned to the origin with the `toorigin` function."
   ]
  },
  {
   "cell_type": "code",
   "execution_count": 15,
   "metadata": {},
   "outputs": [
    {
     "data": {
      "text/plain": [
       "Load\tFx\t\tFy\t\tFz\t\t\tMx\t\tMy\t\tMz\n",
       "D\t0.00\t\t0.00\t\t-70.00\t\t\t710.95\t\t-456.03\t\t-456.03\n",
       "Di\t0.00\t\t0.00\t\t0.00\t\t\t0.00\t\t0.00\t\t0.00\n",
       "E\t0.00\t\t0.00\t\t0.00\t\t\t0.00\t\t0.00\t\t0.00\n",
       "F\t0.00\t\t0.00\t\t0.00\t\t\t0.00\t\t0.00\t\t0.00\n",
       "Fa\t0.00\t\t0.00\t\t0.00\t\t\t0.00\t\t0.00\t\t0.00\n",
       "H\t0.00\t\t0.00\t\t0.00\t\t\t0.00\t\t0.00\t\t0.00\n",
       "L\t38.00\t\t37.00\t\t-40.00\t\t\t503.12\t\t-240.09\t\t-240.09\n",
       "Lr\t0.00\t\t0.00\t\t0.00\t\t\t0.00\t\t0.00\t\t0.00\n",
       "R\t0.00\t\t0.00\t\t0.00\t\t\t0.00\t\t0.00\t\t0.00\n",
       "S\t0.00\t\t0.00\t\t0.00\t\t\t0.00\t\t0.00\t\t0.00\n",
       "T\t0.00\t\t0.00\t\t0.00\t\t\t0.00\t\t0.00\t\t0.00\n",
       "W\t0.00\t\t0.00\t\t0.00\t\t\t0.00\t\t0.00\t\t0.00\n",
       "Wi\t0.00\t\t0.00\t\t0.00\t\t\t0.00\t\t0.00\t\t0.00\n",
       "\n",
       "O = (0.00, 0.00, 0.00) \n",
       "θ = (0.00, 0.00, 0.00)"
      ]
     },
     "execution_count": 15,
     "metadata": {},
     "output_type": "execute_result"
    }
   ],
   "source": [
    "lgroup.toorigin()\n",
    "lgroup"
   ]
  },
  {
   "cell_type": "markdown",
   "metadata": {},
   "source": [
    "The current reference system can be adopted as the origin with the `resetorigin` function."
   ]
  },
  {
   "cell_type": "code",
   "execution_count": 16,
   "metadata": {},
   "outputs": [
    {
     "data": {
      "text/plain": [
       "Load\tFx\t\tFy\t\tFz\t\t\tMx\t\tMy\t\tMz\n",
       "D\t11.36\t\t18.36\t\t-66.59\t\t\t1137.88\t\t-739.59\t\t-739.59\n",
       "Di\t0.00\t\t0.00\t\t0.00\t\t\t0.00\t\t0.00\t\t0.00\n",
       "E\t0.00\t\t0.00\t\t0.00\t\t\t0.00\t\t0.00\t\t0.00\n",
       "F\t0.00\t\t0.00\t\t0.00\t\t\t0.00\t\t0.00\t\t0.00\n",
       "Fa\t0.00\t\t0.00\t\t0.00\t\t\t0.00\t\t0.00\t\t0.00\n",
       "H\t0.00\t\t0.00\t\t0.00\t\t\t0.00\t\t0.00\t\t0.00\n",
       "L\t23.68\t\t58.03\t\t-22.01\t\t\t764.17\t\t-305.81\t\t-305.81\n",
       "Lr\t0.00\t\t0.00\t\t0.00\t\t\t0.00\t\t0.00\t\t0.00\n",
       "R\t0.00\t\t0.00\t\t0.00\t\t\t0.00\t\t0.00\t\t0.00\n",
       "S\t0.00\t\t0.00\t\t0.00\t\t\t0.00\t\t0.00\t\t0.00\n",
       "T\t0.00\t\t0.00\t\t0.00\t\t\t0.00\t\t0.00\t\t0.00\n",
       "W\t0.00\t\t0.00\t\t0.00\t\t\t0.00\t\t0.00\t\t0.00\n",
       "Wi\t0.00\t\t0.00\t\t0.00\t\t\t0.00\t\t0.00\t\t0.00\n",
       "\n",
       "O = (10.00, 0.00, 0.00) \n",
       "θ = (10.00, 15.00, 24.00)"
      ]
     },
     "execution_count": 16,
     "metadata": {},
     "output_type": "execute_result"
    }
   ],
   "source": [
    "lgroup.xshift(10)\n",
    "lgroup.rotate(10, 15, 24)\n",
    "lgroup"
   ]
  },
  {
   "cell_type": "code",
   "execution_count": 17,
   "metadata": {},
   "outputs": [
    {
     "data": {
      "text/plain": [
       "Load\tFx\t\tFy\t\tFz\t\t\tMx\t\tMy\t\tMz\n",
       "D\t11.36\t\t18.36\t\t-66.59\t\t\t1137.88\t\t-739.59\t\t-739.59\n",
       "Di\t0.00\t\t0.00\t\t0.00\t\t\t0.00\t\t0.00\t\t0.00\n",
       "E\t0.00\t\t0.00\t\t0.00\t\t\t0.00\t\t0.00\t\t0.00\n",
       "F\t0.00\t\t0.00\t\t0.00\t\t\t0.00\t\t0.00\t\t0.00\n",
       "Fa\t0.00\t\t0.00\t\t0.00\t\t\t0.00\t\t0.00\t\t0.00\n",
       "H\t0.00\t\t0.00\t\t0.00\t\t\t0.00\t\t0.00\t\t0.00\n",
       "L\t23.68\t\t58.03\t\t-22.01\t\t\t764.17\t\t-305.81\t\t-305.81\n",
       "Lr\t0.00\t\t0.00\t\t0.00\t\t\t0.00\t\t0.00\t\t0.00\n",
       "R\t0.00\t\t0.00\t\t0.00\t\t\t0.00\t\t0.00\t\t0.00\n",
       "S\t0.00\t\t0.00\t\t0.00\t\t\t0.00\t\t0.00\t\t0.00\n",
       "T\t0.00\t\t0.00\t\t0.00\t\t\t0.00\t\t0.00\t\t0.00\n",
       "W\t0.00\t\t0.00\t\t0.00\t\t\t0.00\t\t0.00\t\t0.00\n",
       "Wi\t0.00\t\t0.00\t\t0.00\t\t\t0.00\t\t0.00\t\t0.00\n",
       "\n",
       "O = (0.00, 0.00, 0.00) \n",
       "θ = (0.00, 0.00, 0.00)"
      ]
     },
     "execution_count": 17,
     "metadata": {},
     "output_type": "execute_result"
    }
   ],
   "source": [
    "lgroup.resetorigin()\n",
    "lgroup"
   ]
  },
  {
   "cell_type": "markdown",
   "metadata": {},
   "source": [
    "## Load combinations"
   ]
  },
  {
   "cell_type": "code",
   "execution_count": 19,
   "metadata": {},
   "outputs": [
    {
     "data": {
      "text/plain": [
       "cirsoc ultiamte load combination \n",
       " \n",
       "LC\tFx\t\tFy\t\tFz\t\t\tMx\t\tMy\t\tMz\n",
       "LC1\t0.00\t\t0.00\t\t-70.00\t\t\t30.00\t\t0.00\t\t0.00\n",
       "LC2\t38.00\t\t37.00\t\t-110.00\t\t\t-6.00\t\t18.50\t\t10.00\n",
       "LC3\t0.00\t\t0.00\t\t-70.00\t\t\t30.00\t\t0.00\t\t0.00\n",
       "LC4\t0.00\t\t0.00\t\t-70.00\t\t\t30.00\t\t0.00\t\t0.00\n",
       "LC5\t26.60\t\t25.90\t\t-98.00\t\t\t4.80\t\t12.95\t\t7.00\n",
       "LC6\t0.00\t\t0.00\t\t-70.00\t\t\t30.00\t\t0.00\t\t0.00\n",
       "LC7\t26.60\t\t25.90\t\t-98.00\t\t\t4.80\t\t12.95\t\t7.00\n",
       "LC8\t22.80\t\t22.20\t\t-94.00\t\t\t8.40\t\t11.10\t\t6.00\n",
       "\n",
       "O = (0.00, 0.00, 0.00) \n",
       "θ = (0.00, 0.00, 0.00)"
      ]
     },
     "execution_count": 19,
     "metadata": {},
     "output_type": "execute_result"
    }
   ],
   "source": [
    "from cirsoc_402 import Load\n",
    "from cirsoc_402 import LoadGroup\n",
    "from cirsoc_402 import LoadCombination\n",
    "\n",
    "\n",
    "c1d = Load('D', zforce = -15, xcoord=-4, ycoord=3, name='column 1 dead')\n",
    "c1l = Load('L', zforce = -15, xforce=10, yforce=3, xmoment=4, ymoment=5, xcoord=-4, ycoord=3, name='column 1 live')\n",
    "\n",
    "c2d = Load('D', zforce = -15, xcoord=4, ycoord=3, name='column 2 dead')\n",
    "c2l = Load('L', zforce = -15, xforce=8, yforce=4, xmoment=6, ymoment=3.5, xcoord=4, ycoord=3, name='column 2 live')\n",
    "\n",
    "c3d = Load('D', zforce = -20, xcoord=4, ycoord=-3, name='column 3 dead')\n",
    "c3l = Load('L', zforce = -5, xforce=10, yforce=15, xmoment=7, ymoment=5, xcoord=4, ycoord=-3, name='column 3 live')\n",
    "\n",
    "c4d = Load('D', zforce = -20, xcoord=-4, ycoord=-3, name='column 4 dead')\n",
    "c4l = Load('L', zforce = -5, xforce=10, yforce=15, xmoment=7, ymoment=5, xcoord=-4, ycoord=-3, name='column 4 live')\n",
    "\n",
    "lgroup = LoadGroup()\n",
    "lgroup = lgroup + c1d + c1l + c2d + c2l + c3d + c3l + c4d + c4l\n",
    "loadcom = LoadCombination(lgroup)\n",
    "loadcom"
   ]
  },
  {
   "cell_type": "code",
   "execution_count": 20,
   "metadata": {},
   "outputs": [
    {
     "data": {
      "text/plain": [
       "{'LC1': D,\n",
       " 'LC2': D + F + H + L + Lr + R + S,\n",
       " 'LC3': D + F + W,\n",
       " 'LC4': D + F + T,\n",
       " 'LC5': D + F + 0.70 H + 0.70 L + 0.70 Lr + 0.70 R + 0.70 S + 0.70 W,\n",
       " 'LC6': D + F + 0.70 T + 0.70 W,\n",
       " 'LC7': D + F + 0.70 L + 0.70 Lr + 0.70 R + 0.70 S + 0.70 T,\n",
       " 'LC8': D + F + 0.60 H + 0.60 L + 0.60 Lr + 0.60 R + 0.60 S + 0.60 T + 0.60 W}"
      ]
     },
     "execution_count": 20,
     "metadata": {},
     "output_type": "execute_result"
    }
   ],
   "source": [
    "loadcom._loadcombinations"
   ]
  },
  {
   "cell_type": "code",
   "execution_count": 21,
   "metadata": {},
   "outputs": [
    {
     "data": {
      "text/plain": [
       "Load\tFx\t\tFy\t\tFz\t\t\tMx\t\tMy\t\tMz\n",
       "D\t0.00\t\t0.00\t\t-70.00\t\t\t30.00\t\t0.00\t\t0.00\n",
       "Di\t0.00\t\t0.00\t\t0.00\t\t\t0.00\t\t0.00\t\t0.00\n",
       "E\t0.00\t\t0.00\t\t0.00\t\t\t0.00\t\t0.00\t\t0.00\n",
       "F\t0.00\t\t0.00\t\t0.00\t\t\t0.00\t\t0.00\t\t0.00\n",
       "Fa\t0.00\t\t0.00\t\t0.00\t\t\t0.00\t\t0.00\t\t0.00\n",
       "H\t0.00\t\t0.00\t\t0.00\t\t\t0.00\t\t0.00\t\t0.00\n",
       "L\t38.00\t\t37.00\t\t-40.00\t\t\t-36.00\t\t18.50\t\t18.50\n",
       "Lr\t0.00\t\t0.00\t\t0.00\t\t\t0.00\t\t0.00\t\t0.00\n",
       "R\t0.00\t\t0.00\t\t0.00\t\t\t0.00\t\t0.00\t\t0.00\n",
       "S\t0.00\t\t0.00\t\t0.00\t\t\t0.00\t\t0.00\t\t0.00\n",
       "T\t0.00\t\t0.00\t\t0.00\t\t\t0.00\t\t0.00\t\t0.00\n",
       "W\t0.00\t\t0.00\t\t0.00\t\t\t0.00\t\t0.00\t\t0.00\n",
       "Wi\t0.00\t\t0.00\t\t0.00\t\t\t0.00\t\t0.00\t\t0.00\n",
       "\n",
       "O = (0.00, 0.00, 0.00) \n",
       "θ = (0.00, 0.00, 0.00)"
      ]
     },
     "execution_count": 21,
     "metadata": {},
     "output_type": "execute_result"
    }
   ],
   "source": [
    "loadcom._loadgroup"
   ]
  },
  {
   "cell_type": "markdown",
   "metadata": {},
   "source": [
    "### Change of reference system"
   ]
  },
  {
   "cell_type": "markdown",
   "metadata": {},
   "source": [
    "The `xshift`, `yshift`, `zshift`, `shift`, `xrotate`, `yrotate`, `zrotate`, `rotate`, `toorigin` and `resetorigin` functions modify the load combinations and the load group coordinate systems. "
   ]
  },
  {
   "cell_type": "code",
   "execution_count": 22,
   "metadata": {},
   "outputs": [
    {
     "data": {
      "text/plain": [
       "cirsoc ultiamte load combination \n",
       " \n",
       "LC\tFx\t\tFy\t\tFz\t\t\tMx\t\tMy\t\tMz\n",
       "LC1\t0.00\t\t0.00\t\t-70.00\t\t\t30.00\t\t-70.00\t\t0.00\n",
       "LC2\t38.00\t\t37.00\t\t-110.00\t\t\t-6.00\t\t-91.50\t\t-27.00\n",
       "LC3\t0.00\t\t0.00\t\t-70.00\t\t\t30.00\t\t-70.00\t\t0.00\n",
       "LC4\t0.00\t\t0.00\t\t-70.00\t\t\t30.00\t\t-70.00\t\t0.00\n",
       "LC5\t26.60\t\t25.90\t\t-98.00\t\t\t4.80\t\t-85.05\t\t-18.90\n",
       "LC6\t0.00\t\t0.00\t\t-70.00\t\t\t30.00\t\t-70.00\t\t0.00\n",
       "LC7\t26.60\t\t25.90\t\t-98.00\t\t\t4.80\t\t-85.05\t\t-18.90\n",
       "LC8\t22.80\t\t22.20\t\t-94.00\t\t\t8.40\t\t-82.90\t\t-16.20\n",
       "\n",
       "O = (1.00, 0.00, 0.00) \n",
       "θ = (0.00, 0.00, 0.00)"
      ]
     },
     "execution_count": 22,
     "metadata": {},
     "output_type": "execute_result"
    }
   ],
   "source": [
    "loadcom.xshift(1)\n",
    "loadcom"
   ]
  },
  {
   "cell_type": "code",
   "execution_count": 23,
   "metadata": {},
   "outputs": [
    {
     "data": {
      "text/plain": [
       "Load\tFx\t\tFy\t\tFz\t\t\tMx\t\tMy\t\tMz\n",
       "D\t0.00\t\t0.00\t\t-70.00\t\t\t30.00\t\t-70.00\t\t-70.00\n",
       "Di\t0.00\t\t0.00\t\t0.00\t\t\t0.00\t\t0.00\t\t0.00\n",
       "E\t0.00\t\t0.00\t\t0.00\t\t\t0.00\t\t0.00\t\t0.00\n",
       "F\t0.00\t\t0.00\t\t0.00\t\t\t0.00\t\t0.00\t\t0.00\n",
       "Fa\t0.00\t\t0.00\t\t0.00\t\t\t0.00\t\t0.00\t\t0.00\n",
       "H\t0.00\t\t0.00\t\t0.00\t\t\t0.00\t\t0.00\t\t0.00\n",
       "L\t38.00\t\t37.00\t\t-40.00\t\t\t-36.00\t\t-21.50\t\t-21.50\n",
       "Lr\t0.00\t\t0.00\t\t0.00\t\t\t0.00\t\t0.00\t\t0.00\n",
       "R\t0.00\t\t0.00\t\t0.00\t\t\t0.00\t\t0.00\t\t0.00\n",
       "S\t0.00\t\t0.00\t\t0.00\t\t\t0.00\t\t0.00\t\t0.00\n",
       "T\t0.00\t\t0.00\t\t0.00\t\t\t0.00\t\t0.00\t\t0.00\n",
       "W\t0.00\t\t0.00\t\t0.00\t\t\t0.00\t\t0.00\t\t0.00\n",
       "Wi\t0.00\t\t0.00\t\t0.00\t\t\t0.00\t\t0.00\t\t0.00\n",
       "\n",
       "O = (1.00, 0.00, 0.00) \n",
       "θ = (0.00, 0.00, 0.00)"
      ]
     },
     "execution_count": 23,
     "metadata": {},
     "output_type": "execute_result"
    }
   ],
   "source": [
    "loadcom._loadgroup"
   ]
  },
  {
   "cell_type": "markdown",
   "metadata": {},
   "source": [
    "### Load combination selection"
   ]
  },
  {
   "cell_type": "code",
   "execution_count": null,
   "metadata": {},
   "outputs": [],
   "source": []
  }
 ],
 "metadata": {
  "hide_input": false,
  "kernelspec": {
   "display_name": "cirsocvenv",
   "language": "python",
   "name": "cirsocvenv"
  },
  "language_info": {
   "codemirror_mode": {
    "name": "ipython",
    "version": 3
   },
   "file_extension": ".py",
   "mimetype": "text/x-python",
   "name": "python",
   "nbconvert_exporter": "python",
   "pygments_lexer": "ipython3",
   "version": "3.7.6"
  },
  "toc": {
   "base_numbering": "1",
   "nav_menu": {},
   "number_sections": true,
   "sideBar": true,
   "skip_h1_title": true,
   "title_cell": "Table of Contents",
   "title_sidebar": "Contents",
   "toc_cell": false,
   "toc_position": {},
   "toc_section_display": true,
   "toc_window_display": true
  },
  "varInspector": {
   "cols": {
    "lenName": 16,
    "lenType": 16,
    "lenVar": 40
   },
   "kernels_config": {
    "python": {
     "delete_cmd_postfix": "",
     "delete_cmd_prefix": "del ",
     "library": "var_list.py",
     "varRefreshCmd": "print(var_dic_list())"
    },
    "r": {
     "delete_cmd_postfix": ") ",
     "delete_cmd_prefix": "rm(",
     "library": "var_list.r",
     "varRefreshCmd": "cat(var_dic_list()) "
    }
   },
   "types_to_exclude": [
    "module",
    "function",
    "builtin_function_or_method",
    "instance",
    "_Feature"
   ],
   "window_display": false
  }
 },
 "nbformat": 4,
 "nbformat_minor": 4
}
